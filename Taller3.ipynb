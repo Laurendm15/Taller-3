{
  "nbformat": 4,
  "nbformat_minor": 0,
  "metadata": {
    "colab": {
      "provenance": [],
      "include_colab_link": true
    },
    "kernelspec": {
      "name": "python3",
      "display_name": "Python 3"
    },
    "language_info": {
      "name": "python"
    }
  },
  "cells": [
    {
      "cell_type": "markdown",
      "metadata": {
        "id": "view-in-github",
        "colab_type": "text"
      },
      "source": [
        "<a href=\"https://colab.research.google.com/github/Laurendm15/Taller-3/blob/main/Taller3.ipynb\" target=\"_parent\"><img src=\"https://colab.research.google.com/assets/colab-badge.svg\" alt=\"Open In Colab\"/></a>"
      ]
    },
    {
      "cell_type": "markdown",
      "source": [
        "Algoritmo para calcular la tarifa de un taxi\n",
        "1. Iniciar\n",
        "2. Declarar variables: distancia recorrida, tiempo de detención, hora de inicio de viaje, total a pagar, subtotal, recargo nocturno, tarifa por kilómetro y tarifa por detención\n",
        "3. Obtener valores de distancia recorrida, tiempo de detencion, hora de inicio de viaje.\n",
        "4. Si la distancia recorrida es menor o igual a 5km, entonces calcular la tarifa por kilómetro (1500 * distancia); Si la distancia es mayor a 5km y menor o igual a 15kmm, calcular (1200 * (distancia - 5) + 1500 * 5); si la distancia es mayor a 15km calcular (1500 * 5 + 1200 * 10 + 1000 * (distancia - 15)); Si la hora de inicio es menor o igual a 6 y mayor o igual a 22, la tarifa de recargo nocturno se calcula, (subtotal * 0.2)\n",
        "5. Calcular la tarifa de detención (400 * tiempoDetencion), subtotal (tarifaBase + tarifaKm + tarifaDetencion), total (subtotal + tarifaNocturna)\n",
        "6. Mostrar distancia recorrida, tiempo de detención, hora de incio, tarifa base, tarifa por kilómetro, tarifa por detención, subtotal, recargo nocturno y total\n",
        "7. Finalizar\n",
        "\n"
      ],
      "metadata": {
        "id": "Kg9e6_IGSsbj"
      }
    },
    {
      "cell_type": "markdown",
      "source": [
        "Pseudocódigo\n",
        "Program CalcularTarifaDeUnTaxi\n",
        "// Programa para calcular la tarifa de un taxi\n",
        "\n",
        "Start\n",
        "// Declaramos las variables\n",
        "\n",
        "Declare float distancia\n",
        "Declare integer tiempoDetencion\n",
        "Declare integer horaInicio\n",
        "Declare float totalTarifa\n",
        "Declare float subtotal\n",
        "Declare float tarifaKm\n",
        "Declare float tarifaDetencion\n",
        "Declare float tarifaNocturna\n",
        "Constant float tarifaBase = 6000.00\n",
        "\n",
        "\n",
        "// Pedimos al usuario ingresar las variables\n",
        "\n",
        "Display \"Por favor ingrese la distancia recorrida (km): \"\n",
        "Input distancia\n",
        "Display \"Por favor ingrese el tiempo de detención (min): \"\n",
        "Input tiempoDetencion\n",
        "Display \"Por favor ingrese la hora de inicio (hora): \"\n",
        "Input horaInicio\n",
        "\n",
        "If distancia <= 5 Then\n",
        "  Set tarifaKm = distancia * 1500.00\n",
        "Else If distancia <= 15 Then\n",
        "  Set tarifaKm = ((1200 * (distancia - 5))  + 1500.00 * 5)\n",
        "Else\n",
        "  Set tarifaKm = ((1500 * 5) + (1200 * 10) + (1000 * (distancia - 15)))\n",
        "End If\n",
        "\n",
        "// Calculamos la tarifa de detencion\n",
        "Set tarifaDetencion = 400 * tiempoDetencion\n",
        "\n",
        "// Calculamos el subtotal\n",
        "Set subtotal = tarifaBase + tarifaKm + tarifaDetencion\n",
        "\n",
        "// Calcularmos la tarifa nocturna en caso de que la haya\n",
        "If horaInicio <= 6 or horaInicio >= 22 Then\n",
        "  Set tarifaNocturna = subtotal * 0.20\n",
        "Else\n",
        "  Set tarifaNocturna = 0\n",
        "End If\n",
        "\n",
        "// Calculamos el total a pagar\n",
        "Set totalTarifa = subtotal + tarifaNocturna\n",
        "\n",
        "Display \"Distancia: \", distancia, \". km\"\n",
        "Display \"Tiempo de detencion: \", tiempoDetencion\n",
        "Display \"Hora de inicio: \", horaInicio\n",
        "Display \"Tarifa base: \", tarifaBase\n",
        "Display \"Tarifa por kilómetro: \", tarifaKm\n",
        "Display \"Tarifa por detencion: \", tarifaDetencion\n",
        "Display \"Tarifa noctura: \", tarifaNocturna\n",
        "Display \"Subtotal: \", subtotal\n",
        "Display \"Total de la tarifa: \", totalTarifa\n",
        "\n",
        "End"
      ],
      "metadata": {
        "id": "_4jAE25CQi4w"
      }
    },
    {
      "cell_type": "code",
      "source": [
        "distancia = float(input(\"Por favor ingrese la distancia recorrida (km): \"))\n",
        "tiempoDetencion = int(input(\"Por favor ingrese el tiempo de detencion (min): \"))\n",
        "horaInicio = int(input(\"Por favor ingrese la hora de inicio (hora): \"))\n",
        "tarifaBase = 6000\n",
        "\n",
        "if distancia <= 5:\n",
        "  tarifaKm = distancia * 1500\n",
        "elif distancia <= 15:\n",
        "  tarifaKm = ((1200 * (distancia - 5))  + 1500.00 * 5)\n",
        "else:\n",
        "  tarifaKm = ((1500 * 5) + (1200 * 10) + (1000 * (distancia - 15)))\n",
        "\n",
        "# Calculamos la tarifa de detención\n",
        "tarifaDetencion = 400 * tiempoDetencion\n",
        "\n",
        "# Calculamos el subtotal\n",
        "subtotal = tarifaBase + tarifaKm + tarifaDetencion\n",
        "\n",
        "# Calculamos la tarifa nocturna en caso de que la haya\n",
        "if horaInicio <= 6 or horaInicio >= 22:\n",
        "  tarifaNocturna = subtotal * 0.20\n",
        "else:\n",
        "  tarifaNocturna = 0\n",
        "\n",
        "# Calculamos el valor total de la tarifa\n",
        "totalTarifa = subtotal + tarifaNocturna\n",
        "\n",
        "print(\"Distancia: \", distancia, \"km\")\n",
        "print(\"Tiempo de detencion: \", tiempoDetencion, \"min\")\n",
        "print(\"Hora de inicio:  \", horaInicio,. \"h\")\n",
        "print(\"Tarifa base: $ \", tarifaBase)\n",
        "print(\"Tarifa por kilómetro: $\", tarifaKm)\n",
        "print(\"Tarifa por detencion: $\", tarifaDetencion)\n",
        "print(\"Tarifa nocturna: $\", tarifaNocturna)\n",
        "print(\"Subtotal: $\", subtotal)\n",
        "print(\"Total de la tarifa: $\", totalTarifa)"
      ],
      "metadata": {
        "colab": {
          "base_uri": "https://localhost:8080/"
        },
        "id": "-cwXXJO0Rez3",
        "outputId": "20215a3a-4195-4722-c6b3-6aae22d882ff"
      },
      "execution_count": 17,
      "outputs": [
        {
          "output_type": "stream",
          "name": "stdout",
          "text": [
            "Por favor ingrese la distancia recorrida (km): 8\n",
            "Por favor ingrese el tiempo de detencion (min): 5\n",
            "Por favor ingrese la hora de inicio (hora): 21\n",
            "Distancia:  8.0 km\n",
            "Tiempo de detencion:  5 min\n",
            "Hora de inicio:   21 h\n",
            "Tarifa base: $  6000\n",
            "Tarifa por kilómetro: $ 11100.0\n",
            "Tarifa por detencion: $ 2000\n",
            "Tarifa nocturna: $ 0\n",
            "Subtotal: $ 19100.0\n",
            "Total de la tarifa: $ 19100.0\n"
          ]
        }
      ]
    },
    {
      "cell_type": "code",
      "source": [],
      "metadata": {
        "id": "qNJPc-6_SOwM"
      },
      "execution_count": null,
      "outputs": []
    }
  ]
}